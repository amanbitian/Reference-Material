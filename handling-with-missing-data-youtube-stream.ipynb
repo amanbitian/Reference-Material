{
 "cells": [
  {
   "cell_type": "markdown",
   "id": "1f592b18",
   "metadata": {
    "papermill": {
     "duration": 0.036264,
     "end_time": "2022-01-24T17:44:20.539952",
     "exception": false,
     "start_time": "2022-01-24T17:44:20.503688",
     "status": "completed"
    },
    "tags": []
   },
   "source": [
    "# Handling with Missing Values\n",
    "\n",
    "In this notebook we will discuss some techniques that can be used to deal with missing values in tabular data.\n",
    "\n",
    "This notebook was presented live on Abhishek Thakur's youtube channel. \n",
    "- Watch here: https://www.youtube.com/watch?v=EYySNJU8qR0\n",
    "- My twitch channel: [www.twitch.tv/medallionstallion_](https://www.twitch.tv/medallionstallion_)\n",
    "- My youtube channel: https://www.youtube.com/channel/UCxladMszXan-jfgzyeIMyvw\n",
    "\n",
    "<div> <img src=\"https://i.imgur.com/SkG4HMS.jpg\" alt=\"Drawing\" style=\"height: 350px;\"/></div> "
   ]
  },
  {
   "cell_type": "code",
   "execution_count": 1,
   "id": "cd35849c",
   "metadata": {
    "execution": {
     "iopub.execute_input": "2022-01-24T17:44:20.615377Z",
     "iopub.status.busy": "2022-01-24T17:44:20.614129Z",
     "iopub.status.idle": "2022-01-24T17:44:20.628342Z",
     "shell.execute_reply": "2022-01-24T17:44:20.627771Z",
     "shell.execute_reply.started": "2022-01-24T16:05:13.80066Z"
    },
    "papermill": {
     "duration": 0.052727,
     "end_time": "2022-01-24T17:44:20.628478",
     "exception": false,
     "start_time": "2022-01-24T17:44:20.575751",
     "status": "completed"
    },
    "tags": []
   },
   "outputs": [],
   "source": [
    "import pandas as pd\n",
    "import numpy as np\n",
    "import matplotlib.pylab as plt\n",
    "color_pal = plt.rcParams['axes.prop_cycle'].by_key()['color']\n",
    "\n",
    "import warnings\n",
    "warnings.filterwarnings(\"ignore\")\n",
    "plt.style.use('ggplot')"
   ]
  },
  {
   "cell_type": "code",
   "execution_count": 2,
   "id": "26883f92",
   "metadata": {
    "execution": {
     "iopub.execute_input": "2022-01-24T17:44:20.705812Z",
     "iopub.status.busy": "2022-01-24T17:44:20.705162Z",
     "iopub.status.idle": "2022-01-24T17:44:21.041538Z",
     "shell.execute_reply": "2022-01-24T17:44:21.040537Z",
     "shell.execute_reply.started": "2022-01-24T16:06:17.450275Z"
    },
    "papermill": {
     "duration": 0.376748,
     "end_time": "2022-01-24T17:44:21.041680",
     "exception": false,
     "start_time": "2022-01-24T17:44:20.664932",
     "status": "completed"
    },
    "tags": []
   },
   "outputs": [],
   "source": [
    "train = pd.read_csv(\"../input/song-popularity-prediction/train.csv\")\n",
    "test = pd.read_csv(\"../input/song-popularity-prediction/test.csv\")\n",
    "ss = pd.read_csv(\"../input/song-popularity-prediction/sample_submission.csv\")\n",
    "\n",
    "train[\"isTrain\"] = True\n",
    "test[\"isTrain\"] = False\n",
    "\n",
    "tt = pd.concat([train, test]).reset_index(drop=True).copy()"
   ]
  },
  {
   "cell_type": "code",
   "execution_count": 3,
   "id": "75ae230b",
   "metadata": {
    "execution": {
     "iopub.execute_input": "2022-01-24T17:44:21.156068Z",
     "iopub.status.busy": "2022-01-24T17:44:21.155484Z",
     "iopub.status.idle": "2022-01-24T17:44:21.158069Z",
     "shell.execute_reply": "2022-01-24T17:44:21.157554Z",
     "shell.execute_reply.started": "2022-01-24T16:07:21.263622Z"
    },
    "papermill": {
     "duration": 0.062519,
     "end_time": "2022-01-24T17:44:21.158181",
     "exception": false,
     "start_time": "2022-01-24T17:44:21.095662",
     "status": "completed"
    },
    "tags": []
   },
   "outputs": [],
   "source": [
    "FEATURES = [\n",
    "    \"song_duration_ms\",\n",
    "    \"acousticness\",\n",
    "    \"danceability\",\n",
    "    \"energy\",\n",
    "    \"instrumentalness\",\n",
    "    \"key\",\n",
    "    \"liveness\",\n",
    "    \"loudness\",\n",
    "    \"audio_mode\",\n",
    "    \"speechiness\",\n",
    "    \"tempo\",\n",
    "    \"time_signature\",\n",
    "    \"audio_valence\",\n",
    "]"
   ]
  },
  {
   "cell_type": "code",
   "execution_count": 4,
   "id": "2ecdf14d",
   "metadata": {
    "execution": {
     "iopub.execute_input": "2022-01-24T17:44:21.237176Z",
     "iopub.status.busy": "2022-01-24T17:44:21.236597Z",
     "iopub.status.idle": "2022-01-24T17:44:21.239104Z",
     "shell.execute_reply": "2022-01-24T17:44:21.239547Z",
     "shell.execute_reply.started": "2022-01-24T16:07:24.242779Z"
    },
    "papermill": {
     "duration": 0.046103,
     "end_time": "2022-01-24T17:44:21.239680",
     "exception": false,
     "start_time": "2022-01-24T17:44:21.193577",
     "status": "completed"
    },
    "tags": []
   },
   "outputs": [
    {
     "data": {
      "text/plain": [
       "((40000, 16), (10000, 15), (50000, 16))"
      ]
     },
     "execution_count": 4,
     "metadata": {},
     "output_type": "execute_result"
    }
   ],
   "source": [
    "train.shape, test.shape, tt.shape"
   ]
  },
  {
   "cell_type": "markdown",
   "id": "20ac6307",
   "metadata": {
    "papermill": {
     "duration": 0.037143,
     "end_time": "2022-01-24T17:44:21.314406",
     "exception": false,
     "start_time": "2022-01-24T17:44:21.277263",
     "status": "completed"
    },
    "tags": []
   },
   "source": [
    "# Before we start.... why are the missing values there?\n",
    "\n",
    "Example causes of missing data:\n",
    "- Sensor data where the sensor went offline.\n",
    "- Survey data where some questions were not answered.\n",
    "- A Kaggle competition where the host wants to make the problem hard :D\n",
    "\n",
    "You need to understand *Why* you have missing values before deciding on the approach for dealing with them."
   ]
  },
  {
   "cell_type": "markdown",
   "id": "ec0e0345",
   "metadata": {
    "papermill": {
     "duration": 0.036936,
     "end_time": "2022-01-24T17:44:21.388578",
     "exception": false,
     "start_time": "2022-01-24T17:44:21.351642",
     "status": "completed"
    },
    "tags": []
   },
   "source": [
    "# Quick Missing Values EDA\n",
    "## What are the counts of missing values in train vs. test?"
   ]
  },
  {
   "cell_type": "code",
   "execution_count": 5,
   "id": "83109426",
   "metadata": {
    "execution": {
     "iopub.execute_input": "2022-01-24T17:44:21.464827Z",
     "iopub.status.busy": "2022-01-24T17:44:21.464284Z",
     "iopub.status.idle": "2022-01-24T17:44:21.765179Z",
     "shell.execute_reply": "2022-01-24T17:44:21.764554Z",
     "shell.execute_reply.started": "2022-01-24T16:12:33.624061Z"
    },
    "papermill": {
     "duration": 0.340078,
     "end_time": "2022-01-24T17:44:21.765350",
     "exception": false,
     "start_time": "2022-01-24T17:44:21.425272",
     "status": "completed"
    },
    "tags": []
   },
   "outputs": [
    {
     "data": {
      "image/png": "[encoded data removed]",
      "text/plain": [
       "<Figure size 576x360 with 1 Axes>"
      ]
     },
     "metadata": {},
     "output_type": "display_data"
    }
   ],
   "source": [
    "ncounts = pd.DataFrame([train.isna().mean(), test.isna().mean()]).T\n",
    "ncounts = ncounts.rename(columns={0: \"train_missing\", 1: \"test_missing\"})\n",
    "\n",
    "ncounts.query(\"train_missing > 0\").plot(\n",
    "    kind=\"barh\", figsize=(8, 5), title=\"% of Values Missing\"\n",
    ")\n",
    "plt.show()"
   ]
  },
  {
   "cell_type": "code",
   "execution_count": 6,
   "id": "aac55d05",
   "metadata": {
    "execution": {
     "iopub.execute_input": "2022-01-24T17:44:21.842647Z",
     "iopub.status.busy": "2022-01-24T17:44:21.842110Z",
     "iopub.status.idle": "2022-01-24T17:44:21.844655Z",
     "shell.execute_reply": "2022-01-24T17:44:21.845177Z",
     "shell.execute_reply.started": "2022-01-24T16:12:43.774769Z"
    },
    "papermill": {
     "duration": 0.043693,
     "end_time": "2022-01-24T17:44:21.845322",
     "exception": false,
     "start_time": "2022-01-24T17:44:21.801629",
     "status": "completed"
    },
    "tags": []
   },
   "outputs": [],
   "source": [
    "nacols = [\n",
    "    \"song_duration_ms\",\n",
    "    \"acousticness\",\n",
    "    \"danceability\",\n",
    "    \"energy\",\n",
    "    \"instrumentalness\",\n",
    "    \"key\",\n",
    "    \"liveness\",\n",
    "    \"loudness\",\n",
    "]"
   ]
  },
  {
   "cell_type": "markdown",
   "id": "8202762a",
   "metadata": {
    "papermill": {
     "duration": 0.036194,
     "end_time": "2022-01-24T17:44:21.918200",
     "exception": false,
     "start_time": "2022-01-24T17:44:21.882006",
     "status": "completed"
    },
    "tags": []
   },
   "source": [
    "## How many missing values per observation?"
   ]
  },
  {
   "cell_type": "code",
   "execution_count": 7,
   "id": "2f454ce9",
   "metadata": {
    "execution": {
     "iopub.execute_input": "2022-01-24T17:44:21.995872Z",
     "iopub.status.busy": "2022-01-24T17:44:21.994063Z",
     "iopub.status.idle": "2022-01-24T17:44:22.006688Z",
     "shell.execute_reply": "2022-01-24T17:44:22.007164Z",
     "shell.execute_reply.started": "2022-01-24T16:13:42.871058Z"
    },
    "papermill": {
     "duration": 0.052821,
     "end_time": "2022-01-24T17:44:22.007323",
     "exception": false,
     "start_time": "2022-01-24T17:44:21.954502",
     "status": "completed"
    },
    "tags": []
   },
   "outputs": [],
   "source": [
    "tt[\"n_missing\"] = tt[nacols].isna().sum(axis=1)\n",
    "train[\"n_missing\"] = train[nacols].isna().sum(axis=1)\n",
    "test[\"n_missing\"] = test[nacols].isna().sum(axis=1)"
   ]
  },
  {
   "cell_type": "code",
   "execution_count": 8,
   "id": "0f3bc871",
   "metadata": {
    "execution": {
     "iopub.execute_input": "2022-01-24T17:44:22.088191Z",
     "iopub.status.busy": "2022-01-24T17:44:22.087646Z",
     "iopub.status.idle": "2022-01-24T17:44:22.428306Z",
     "shell.execute_reply": "2022-01-24T17:44:22.428892Z",
     "shell.execute_reply.started": "2022-01-24T16:14:13.502157Z"
    },
    "papermill": {
     "duration": 0.382047,
     "end_time": "2022-01-24T17:44:22.429024",
     "exception": false,
     "start_time": "2022-01-24T17:44:22.046977",
     "status": "completed"
    },
    "tags": []
   },
   "outputs": [
    {
     "data": {
      "text/plain": [
       "<AxesSubplot:title={'center':'Number of Missing Values per Sample'}>"
      ]
     },
     "execution_count": 8,
     "metadata": {},
     "output_type": "execute_result"
    },
    {
     "data": {
      "image/png": "[encoded data removed]",
      "text/plain": [
       "<Figure size 432x288 with 1 Axes>"
      ]
     },
     "metadata": {},
     "output_type": "display_data"
    }
   ],
   "source": [
    "tt[\"n_missing\"].value_counts().plot(\n",
    "    kind=\"bar\", title=\"Number of Missing Values per Sample\"\n",
    ")"
   ]
  },
  {
   "cell_type": "code",
   "execution_count": 9,
   "id": "c8e34d57",
   "metadata": {
    "execution": {
     "iopub.execute_input": "2022-01-24T17:44:22.505307Z",
     "iopub.status.busy": "2022-01-24T17:44:22.504854Z",
     "iopub.status.idle": "2022-01-24T17:44:22.536517Z",
     "shell.execute_reply": "2022-01-24T17:44:22.537434Z",
     "shell.execute_reply.started": "2022-01-24T16:14:35.725206Z"
    },
    "papermill": {
     "duration": 0.071883,
     "end_time": "2022-01-24T17:44:22.537722",
     "exception": false,
     "start_time": "2022-01-24T17:44:22.465839",
     "status": "completed"
    },
    "tags": []
   },
   "outputs": [
    {
     "data": {
      "text/html": [
       "<div>\n",
       "<style scoped>\n",
       "    .dataframe tbody tr th:only-of-type {\n",
       "        vertical-align: middle;\n",
       "    }\n",
       "\n",
       "    .dataframe tbody tr th {\n",
       "        vertical-align: top;\n",
       "    }\n",
       "\n",
       "    .dataframe thead th {\n",
       "        text-align: right;\n",
       "    }\n",
       "</style>\n",
       "<table border=\"1\" class=\"dataframe\">\n",
       "  <thead>\n",
       "    <tr style=\"text-align: right;\">\n",
       "      <th></th>\n",
       "      <th>id</th>\n",
       "      <th>song_duration_ms</th>\n",
       "      <th>acousticness</th>\n",
       "      <th>danceability</th>\n",
       "      <th>energy</th>\n",
       "      <th>instrumentalness</th>\n",
       "      <th>key</th>\n",
       "      <th>liveness</th>\n",
       "      <th>loudness</th>\n",
       "      <th>audio_mode</th>\n",
       "      <th>speechiness</th>\n",
       "      <th>tempo</th>\n",
       "      <th>time_signature</th>\n",
       "      <th>audio_valence</th>\n",
       "      <th>song_popularity</th>\n",
       "      <th>isTrain</th>\n",
       "      <th>n_missing</th>\n",
       "    </tr>\n",
       "  </thead>\n",
       "  <tbody>\n",
       "    <tr>\n",
       "      <th>13457</th>\n",
       "      <td>13457</td>\n",
       "      <td>176401.0</td>\n",
       "      <td>NaN</td>\n",
       "      <td>NaN</td>\n",
       "      <td>0.833408</td>\n",
       "      <td>NaN</td>\n",
       "      <td>NaN</td>\n",
       "      <td>NaN</td>\n",
       "      <td>NaN</td>\n",
       "      <td>0</td>\n",
       "      <td>0.052580</td>\n",
       "      <td>142.802779</td>\n",
       "      <td>3</td>\n",
       "      <td>0.546615</td>\n",
       "      <td>0.0</td>\n",
       "      <td>True</td>\n",
       "      <td>6</td>\n",
       "    </tr>\n",
       "    <tr>\n",
       "      <th>19697</th>\n",
       "      <td>19697</td>\n",
       "      <td>NaN</td>\n",
       "      <td>NaN</td>\n",
       "      <td>NaN</td>\n",
       "      <td>NaN</td>\n",
       "      <td>0.003014</td>\n",
       "      <td>NaN</td>\n",
       "      <td>NaN</td>\n",
       "      <td>-10.708472</td>\n",
       "      <td>0</td>\n",
       "      <td>0.035591</td>\n",
       "      <td>95.181833</td>\n",
       "      <td>3</td>\n",
       "      <td>0.483101</td>\n",
       "      <td>0.0</td>\n",
       "      <td>True</td>\n",
       "      <td>6</td>\n",
       "    </tr>\n",
       "    <tr>\n",
       "      <th>48594</th>\n",
       "      <td>8594</td>\n",
       "      <td>NaN</td>\n",
       "      <td>NaN</td>\n",
       "      <td>NaN</td>\n",
       "      <td>0.344299</td>\n",
       "      <td>NaN</td>\n",
       "      <td>2.0</td>\n",
       "      <td>NaN</td>\n",
       "      <td>NaN</td>\n",
       "      <td>1</td>\n",
       "      <td>0.035495</td>\n",
       "      <td>151.125383</td>\n",
       "      <td>4</td>\n",
       "      <td>0.463903</td>\n",
       "      <td>NaN</td>\n",
       "      <td>False</td>\n",
       "      <td>6</td>\n",
       "    </tr>\n",
       "  </tbody>\n",
       "</table>\n",
       "</div>"
      ],
      "text/plain": [
       "          id  song_duration_ms  acousticness  danceability    energy  \\\n",
       "13457  13457          176401.0           NaN           NaN  0.833408   \n",
       "19697  19697               NaN           NaN           NaN       NaN   \n",
       "48594   8594               NaN           NaN           NaN  0.344299   \n",
       "\n",
       "       instrumentalness  key  liveness   loudness  audio_mode  speechiness  \\\n",
       "13457               NaN  NaN       NaN        NaN           0     0.052580   \n",
       "19697          0.003014  NaN       NaN -10.708472           0     0.035591   \n",
       "48594               NaN  2.0       NaN        NaN           1     0.035495   \n",
       "\n",
       "            tempo  time_signature  audio_valence  song_popularity  isTrain  \\\n",
       "13457  142.802779               3       0.546615              0.0     True   \n",
       "19697   95.181833               3       0.483101              0.0     True   \n",
       "48594  151.125383               4       0.463903              NaN    False   \n",
       "\n",
       "       n_missing  \n",
       "13457          6  \n",
       "19697          6  \n",
       "48594          6  "
      ]
     },
     "execution_count": 9,
     "metadata": {},
     "output_type": "execute_result"
    }
   ],
   "source": [
    "tt.query(\"n_missing == 6\")"
   ]
  },
  {
   "cell_type": "markdown",
   "id": "484deb65",
   "metadata": {
    "papermill": {
     "duration": 0.058432,
     "end_time": "2022-01-24T17:44:22.653802",
     "exception": false,
     "start_time": "2022-01-24T17:44:22.595370",
     "status": "completed"
    },
    "tags": []
   },
   "source": [
    "## Do we see an imbalance in missing values when splitting by other features?"
   ]
  },
  {
   "cell_type": "code",
   "execution_count": 10,
   "id": "6c2b14af",
   "metadata": {
    "execution": {
     "iopub.execute_input": "2022-01-24T17:44:22.771358Z",
     "iopub.status.busy": "2022-01-24T17:44:22.770632Z",
     "iopub.status.idle": "2022-01-24T17:44:22.780930Z",
     "shell.execute_reply": "2022-01-24T17:44:22.781532Z",
     "shell.execute_reply.started": "2022-01-24T16:16:23.71558Z"
    },
    "papermill": {
     "duration": 0.070871,
     "end_time": "2022-01-24T17:44:22.781718",
     "exception": false,
     "start_time": "2022-01-24T17:44:22.710847",
     "status": "completed"
    },
    "tags": []
   },
   "outputs": [
    {
     "data": {
      "text/plain": [
       "audio_mode\n",
       "0    0.804547\n",
       "1    0.799677\n",
       "Name: n_missing, dtype: float64"
      ]
     },
     "execution_count": 10,
     "metadata": {},
     "output_type": "execute_result"
    }
   ],
   "source": [
    "cat_features = [\"key\", \"audio_mode\"]\n",
    "tt.groupby(\"audio_mode\")[\"n_missing\"].mean()"
   ]
  },
  {
   "cell_type": "code",
   "execution_count": 11,
   "id": "d3fffddb",
   "metadata": {
    "execution": {
     "iopub.execute_input": "2022-01-24T17:44:22.901917Z",
     "iopub.status.busy": "2022-01-24T17:44:22.901236Z",
     "iopub.status.idle": "2022-01-24T17:44:22.911133Z",
     "shell.execute_reply": "2022-01-24T17:44:22.910697Z",
     "shell.execute_reply.started": "2022-01-24T16:16:46.054145Z"
    },
    "papermill": {
     "duration": 0.072043,
     "end_time": "2022-01-24T17:44:22.911250",
     "exception": false,
     "start_time": "2022-01-24T17:44:22.839207",
     "status": "completed"
    },
    "tags": []
   },
   "outputs": [
    {
     "data": {
      "text/html": [
       "<div>\n",
       "<style scoped>\n",
       "    .dataframe tbody tr th:only-of-type {\n",
       "        vertical-align: middle;\n",
       "    }\n",
       "\n",
       "    .dataframe tbody tr th {\n",
       "        vertical-align: top;\n",
       "    }\n",
       "\n",
       "    .dataframe thead th {\n",
       "        text-align: right;\n",
       "    }\n",
       "</style>\n",
       "<table border=\"1\" class=\"dataframe\">\n",
       "  <thead>\n",
       "    <tr style=\"text-align: right;\">\n",
       "      <th></th>\n",
       "      <th>mean</th>\n",
       "      <th>count</th>\n",
       "    </tr>\n",
       "    <tr>\n",
       "      <th>time_signature</th>\n",
       "      <th></th>\n",
       "      <th></th>\n",
       "    </tr>\n",
       "  </thead>\n",
       "  <tbody>\n",
       "    <tr>\n",
       "      <th>2</th>\n",
       "      <td>0.786337</td>\n",
       "      <td>688</td>\n",
       "    </tr>\n",
       "    <tr>\n",
       "      <th>3</th>\n",
       "      <td>0.805649</td>\n",
       "      <td>29174</td>\n",
       "    </tr>\n",
       "    <tr>\n",
       "      <th>4</th>\n",
       "      <td>0.800352</td>\n",
       "      <td>19895</td>\n",
       "    </tr>\n",
       "    <tr>\n",
       "      <th>5</th>\n",
       "      <td>0.744856</td>\n",
       "      <td>243</td>\n",
       "    </tr>\n",
       "  </tbody>\n",
       "</table>\n",
       "</div>"
      ],
      "text/plain": [
       "                    mean  count\n",
       "time_signature                 \n",
       "2               0.786337    688\n",
       "3               0.805649  29174\n",
       "4               0.800352  19895\n",
       "5               0.744856    243"
      ]
     },
     "execution_count": 11,
     "metadata": {},
     "output_type": "execute_result"
    }
   ],
   "source": [
    "tt.groupby(\"time_signature\")[\"n_missing\"].agg(['mean','count'])"
   ]
  },
  {
   "cell_type": "code",
   "execution_count": 12,
   "id": "3fa2c75f",
   "metadata": {
    "execution": {
     "iopub.execute_input": "2022-01-24T17:44:22.990384Z",
     "iopub.status.busy": "2022-01-24T17:44:22.989949Z",
     "iopub.status.idle": "2022-01-24T17:44:22.996586Z",
     "shell.execute_reply": "2022-01-24T17:44:22.997057Z",
     "shell.execute_reply.started": "2022-01-24T16:17:05.716925Z"
    },
    "papermill": {
     "duration": 0.048762,
     "end_time": "2022-01-24T17:44:22.997193",
     "exception": false,
     "start_time": "2022-01-24T17:44:22.948431",
     "status": "completed"
    },
    "tags": []
   },
   "outputs": [
    {
     "data": {
      "text/plain": [
       "song_popularity\n",
       "0    0.807505\n",
       "1    0.799739\n",
       "Name: n_missing, dtype: float64"
      ]
     },
     "execution_count": 12,
     "metadata": {},
     "output_type": "execute_result"
    }
   ],
   "source": [
    "train.groupby(\"song_popularity\")[\"n_missing\"].mean()"
   ]
  },
  {
   "cell_type": "markdown",
   "id": "24744434",
   "metadata": {
    "papermill": {
     "duration": 0.037107,
     "end_time": "2022-01-24T17:44:23.071451",
     "exception": false,
     "start_time": "2022-01-24T17:44:23.034344",
     "status": "completed"
    },
    "tags": []
   },
   "source": [
    "# Prep - Create Tag Columns with Missing Indicators"
   ]
  },
  {
   "cell_type": "code",
   "execution_count": 13,
   "id": "4e603ec5",
   "metadata": {
    "execution": {
     "iopub.execute_input": "2022-01-24T17:44:23.147533Z",
     "iopub.status.busy": "2022-01-24T17:44:23.146908Z",
     "iopub.status.idle": "2022-01-24T17:44:23.153651Z",
     "shell.execute_reply": "2022-01-24T17:44:23.154184Z",
     "shell.execute_reply.started": "2022-01-24T16:21:14.625497Z"
    },
    "papermill": {
     "duration": 0.046043,
     "end_time": "2022-01-24T17:44:23.154363",
     "exception": false,
     "start_time": "2022-01-24T17:44:23.108320",
     "status": "completed"
    },
    "tags": []
   },
   "outputs": [],
   "source": [
    "tt_missing_tag_df = tt[nacols].isna()\n",
    "tt_missing_tag_df.columns = \\\n",
    "    [f\"{c}_missing\" for c in tt_missing_tag_df.columns]"
   ]
  },
  {
   "cell_type": "code",
   "execution_count": 14,
   "id": "44d84b90",
   "metadata": {
    "execution": {
     "iopub.execute_input": "2022-01-24T17:44:23.274872Z",
     "iopub.status.busy": "2022-01-24T17:44:23.274110Z",
     "iopub.status.idle": "2022-01-24T17:44:23.281552Z",
     "shell.execute_reply": "2022-01-24T17:44:23.281010Z",
     "shell.execute_reply.started": "2022-01-24T16:21:14.792484Z"
    },
    "papermill": {
     "duration": 0.068587,
     "end_time": "2022-01-24T17:44:23.281718",
     "exception": false,
     "start_time": "2022-01-24T17:44:23.213131",
     "status": "completed"
    },
    "tags": []
   },
   "outputs": [],
   "source": [
    "tt = pd.concat([tt, tt_missing_tag_df], axis=1)"
   ]
  },
  {
   "cell_type": "markdown",
   "id": "9a66976b",
   "metadata": {
    "papermill": {
     "duration": 0.05973,
     "end_time": "2022-01-24T17:44:23.400200",
     "exception": false,
     "start_time": "2022-01-24T17:44:23.340470",
     "status": "completed"
    },
    "tags": []
   },
   "source": [
    "# Protip:\n",
    "- Try to predict the target using only missing value indicators as features"
   ]
  },
  {
   "cell_type": "code",
   "execution_count": 15,
   "id": "3d7244dd",
   "metadata": {
    "execution": {
     "iopub.execute_input": "2022-01-24T17:44:23.524001Z",
     "iopub.status.busy": "2022-01-24T17:44:23.523143Z",
     "iopub.status.idle": "2022-01-24T17:44:25.980262Z",
     "shell.execute_reply": "2022-01-24T17:44:25.981257Z",
     "shell.execute_reply.started": "2022-01-24T16:22:45.583906Z"
    },
    "papermill": {
     "duration": 2.525233,
     "end_time": "2022-01-24T17:44:25.981462",
     "exception": false,
     "start_time": "2022-01-24T17:44:23.456229",
     "status": "completed"
    },
    "tags": []
   },
   "outputs": [
    {
     "data": {
      "text/plain": [
       "0.4928022710677621"
      ]
     },
     "execution_count": 15,
     "metadata": {},
     "output_type": "execute_result"
    }
   ],
   "source": [
    "from sklearn.linear_model import LogisticRegressionCV\n",
    "from sklearn.metrics import roc_auc_score\n",
    "\n",
    "lr = LogisticRegressionCV(scoring=\"accuracy\")\n",
    "\n",
    "X = tt.query(\"isTrain\")[\n",
    "    [\n",
    "        \"song_duration_ms_missing\",\n",
    "        \"acousticness_missing\",\n",
    "        \"danceability_missing\",\n",
    "        \"energy_missing\",\n",
    "        \"instrumentalness_missing\",\n",
    "        \"key_missing\",\n",
    "        \"liveness_missing\",\n",
    "        \"loudness_missing\",\n",
    "    ]\n",
    "]\n",
    "\n",
    "y = tt.query(\"isTrain\")[\"song_popularity\"]\n",
    "\n",
    "lr.fit(X, y)\n",
    "lr.score(X, y)\n",
    "\n",
    "preds = lr.predict_proba(X)[:, 0]\n",
    "\n",
    "roc_auc_score(y, preds)"
   ]
  },
  {
   "cell_type": "markdown",
   "id": "49ab5425",
   "metadata": {
    "papermill": {
     "duration": 0.062868,
     "end_time": "2022-01-24T17:44:26.116673",
     "exception": false,
     "start_time": "2022-01-24T17:44:26.053805",
     "status": "completed"
    },
    "tags": []
   },
   "source": [
    "# Level 0: Do Nothing!\n",
    "https://lightgbm.readthedocs.io/en/latest/Advanced-Topics.html\n",
    "- Tree Type Models like LightGBM and XGBoost can work with NA values\n",
    "\n",
    "- Other types of regression or neural networks will require some sort of imputation."
   ]
  },
  {
   "cell_type": "code",
   "execution_count": 16,
   "id": "60290fa7",
   "metadata": {
    "execution": {
     "iopub.execute_input": "2022-01-24T17:44:26.241920Z",
     "iopub.status.busy": "2022-01-24T17:44:26.241434Z",
     "iopub.status.idle": "2022-01-24T17:44:27.354790Z",
     "shell.execute_reply": "2022-01-24T17:44:27.354282Z"
    },
    "papermill": {
     "duration": 1.178054,
     "end_time": "2022-01-24T17:44:27.354941",
     "exception": false,
     "start_time": "2022-01-24T17:44:26.176887",
     "status": "completed"
    },
    "tags": []
   },
   "outputs": [
    {
     "data": {
      "text/html": [
       "<style type='text/css'>\n",
       ".datatable table.frame { margin-bottom: 0; }\n",
       ".datatable table.frame thead { border-bottom: none; }\n",
       ".datatable table.frame tr.coltypes td {  color: #FFFFFF;  line-height: 6px;  padding: 0 0.5em;}\n",
       ".datatable .bool    { background: #DDDD99; }\n",
       ".datatable .object  { background: #565656; }\n",
       ".datatable .int     { background: #5D9E5D; }\n",
       ".datatable .float   { background: #4040CC; }\n",
       ".datatable .str     { background: #CC4040; }\n",
       ".datatable .time    { background: #40CC40; }\n",
       ".datatable .row_index {  background: var(--jp-border-color3);  border-right: 1px solid var(--jp-border-color0);  color: var(--jp-ui-font-color3);  font-size: 9px;}\n",
       ".datatable .frame tbody td { text-align: left; }\n",
       ".datatable .frame tr.coltypes .row_index {  background: var(--jp-border-color0);}\n",
       ".datatable th:nth-child(2) { padding-left: 12px; }\n",
       ".datatable .hellipsis {  color: var(--jp-cell-editor-border-color);}\n",
       ".datatable .vellipsis {  background: var(--jp-layout-color0);  color: var(--jp-cell-editor-border-color);}\n",
       ".datatable .na {  color: var(--jp-cell-editor-border-color);  font-size: 80%;}\n",
       ".datatable .sp {  opacity: 0.25;}\n",
       ".datatable .footer { font-size: 9px; }\n",
       ".datatable .frame_dimensions {  background: var(--jp-border-color3);  border-top: 1px solid var(--jp-border-color0);  color: var(--jp-ui-font-color3);  display: inline-block;  opacity: 0.6;  padding: 1px 10px 1px 5px;}\n",
       "</style>\n"
      ],
      "text/plain": [
       "<IPython.core.display.HTML object>"
      ]
     },
     "metadata": {},
     "output_type": "display_data"
    }
   ],
   "source": [
    "# use_missing (default)\n",
    "# or zero_as_missing are params that can be used \n",
    "import lightgbm as lgb\n",
    "lgbm_params = {\n",
    "    'objective': 'regression',\n",
    "    'metric': 'auc',\n",
    "    'verbose': -1,\n",
    "    'boost_from_average': False,\n",
    "    'min_data': 1,\n",
    "    'num_leaves': 2,\n",
    "    'learning_rate': 1,\n",
    "    'min_data_in_bin': 1,\n",
    "#     'use_missing': False,\n",
    "#     'zero_as_missing': True\n",
    "}\n",
    "\n",
    "model = lgb.LGBMClassifier(params=lgbm_params)"
   ]
  },
  {
   "cell_type": "markdown",
   "id": "427d1503",
   "metadata": {
    "papermill": {
     "duration": 0.039451,
     "end_time": "2022-01-24T17:44:27.434039",
     "exception": false,
     "start_time": "2022-01-24T17:44:27.394588",
     "status": "completed"
    },
    "tags": []
   },
   "source": [
    "# Level 1: Drop 'em\n",
    "\n",
    "![img](https://i.imgur.com/hmqbGOo.jpg)\n",
    "\n",
    "- Drop all rows with missing values (axis=0)\n",
    "    - This doesn't work on test because we can't just not predict those values\n",
    "- Drop all missing columns:\n",
    "    - This leaves us with much less features to use"
   ]
  },
  {
   "cell_type": "code",
   "execution_count": 17,
   "id": "233b6f4a",
   "metadata": {
    "execution": {
     "iopub.execute_input": "2022-01-24T17:44:27.518412Z",
     "iopub.status.busy": "2022-01-24T17:44:27.515254Z",
     "iopub.status.idle": "2022-01-24T17:44:27.526433Z",
     "shell.execute_reply": "2022-01-24T17:44:27.526825Z",
     "shell.execute_reply.started": "2022-01-24T16:26:43.346958Z"
    },
    "papermill": {
     "duration": 0.053975,
     "end_time": "2022-01-24T17:44:27.527008",
     "exception": false,
     "start_time": "2022-01-24T17:44:27.473033",
     "status": "completed"
    },
    "tags": []
   },
   "outputs": [
    {
     "data": {
      "text/plain": [
       "((50000, 25), (17259, 25))"
      ]
     },
     "execution_count": 17,
     "metadata": {},
     "output_type": "execute_result"
    }
   ],
   "source": [
    "tt.shape, tt.dropna(axis=0).shape"
   ]
  },
  {
   "cell_type": "code",
   "execution_count": 18,
   "id": "5afe8bc7",
   "metadata": {
    "execution": {
     "iopub.execute_input": "2022-01-24T17:44:27.613227Z",
     "iopub.status.busy": "2022-01-24T17:44:27.612443Z",
     "iopub.status.idle": "2022-01-24T17:44:27.622499Z",
     "shell.execute_reply": "2022-01-24T17:44:27.621890Z",
     "shell.execute_reply.started": "2022-01-24T16:26:43.927801Z"
    },
    "papermill": {
     "duration": 0.055212,
     "end_time": "2022-01-24T17:44:27.622635",
     "exception": false,
     "start_time": "2022-01-24T17:44:27.567423",
     "status": "completed"
    },
    "tags": []
   },
   "outputs": [
    {
     "data": {
      "text/plain": [
       "((50000, 25), (50000, 16))"
      ]
     },
     "execution_count": 18,
     "metadata": {},
     "output_type": "execute_result"
    }
   ],
   "source": [
    "tt.shape, tt.dropna(axis=1).shape"
   ]
  },
  {
   "cell_type": "code",
   "execution_count": 19,
   "id": "136baf3b",
   "metadata": {
    "execution": {
     "iopub.execute_input": "2022-01-24T17:44:27.725107Z",
     "iopub.status.busy": "2022-01-24T17:44:27.724429Z",
     "iopub.status.idle": "2022-01-24T17:44:27.734976Z",
     "shell.execute_reply": "2022-01-24T17:44:27.735355Z"
    },
    "papermill": {
     "duration": 0.057957,
     "end_time": "2022-01-24T17:44:27.735522",
     "exception": false,
     "start_time": "2022-01-24T17:44:27.677565",
     "status": "completed"
    },
    "tags": []
   },
   "outputs": [],
   "source": [
    "# Dropna based only on a subset of columns\n",
    "_ = train.dropna(subset=['song_duration_ms'])"
   ]
  },
  {
   "cell_type": "markdown",
   "id": "d3723969",
   "metadata": {
    "papermill": {
     "duration": 0.041475,
     "end_time": "2022-01-24T17:44:27.818185",
     "exception": false,
     "start_time": "2022-01-24T17:44:27.776710",
     "status": "completed"
    },
    "tags": []
   },
   "source": [
    "# Level 2: Pandas Imputation\n",
    "![img](https://i.imgur.com/Qas2RHT.jpg)\n",
    "- Fill missing values using `fillna`\n",
    "- `ffill` and `bfill`\n",
    "- `groupby` fills"
   ]
  },
  {
   "cell_type": "code",
   "execution_count": 20,
   "id": "8e8b01b6",
   "metadata": {
    "execution": {
     "iopub.execute_input": "2022-01-24T17:44:27.908161Z",
     "iopub.status.busy": "2022-01-24T17:44:27.907485Z",
     "iopub.status.idle": "2022-01-24T17:44:27.912665Z",
     "shell.execute_reply": "2022-01-24T17:44:27.913082Z"
    },
    "papermill": {
     "duration": 0.052831,
     "end_time": "2022-01-24T17:44:27.913244",
     "exception": false,
     "start_time": "2022-01-24T17:44:27.860413",
     "status": "completed"
    },
    "tags": []
   },
   "outputs": [
    {
     "data": {
      "text/plain": [
       "0    212990.0\n",
       "1      -999.0\n",
       "2    193213.0\n",
       "3    249893.0\n",
       "4    165969.0\n",
       "Name: song_duration_ms, dtype: float64"
      ]
     },
     "execution_count": 20,
     "metadata": {},
     "output_type": "execute_result"
    }
   ],
   "source": [
    "# Fill with a default value\n",
    "tt['song_duration_ms'].fillna(-999).head(5)"
   ]
  },
  {
   "cell_type": "code",
   "execution_count": 21,
   "id": "285b66fd",
   "metadata": {
    "execution": {
     "iopub.execute_input": "2022-01-24T17:44:27.998868Z",
     "iopub.status.busy": "2022-01-24T17:44:27.998097Z",
     "iopub.status.idle": "2022-01-24T17:44:28.018255Z",
     "shell.execute_reply": "2022-01-24T17:44:28.018745Z",
     "shell.execute_reply.started": "2022-01-24T16:28:20.871Z"
    },
    "papermill": {
     "duration": 0.065568,
     "end_time": "2022-01-24T17:44:28.018884",
     "exception": false,
     "start_time": "2022-01-24T17:44:27.953316",
     "status": "completed"
    },
    "tags": []
   },
   "outputs": [
    {
     "data": {
      "text/html": [
       "<div>\n",
       "<style scoped>\n",
       "    .dataframe tbody tr th:only-of-type {\n",
       "        vertical-align: middle;\n",
       "    }\n",
       "\n",
       "    .dataframe tbody tr th {\n",
       "        vertical-align: top;\n",
       "    }\n",
       "\n",
       "    .dataframe thead th {\n",
       "        text-align: right;\n",
       "    }\n",
       "</style>\n",
       "<table border=\"1\" class=\"dataframe\">\n",
       "  <thead>\n",
       "    <tr style=\"text-align: right;\">\n",
       "      <th></th>\n",
       "      <th>song_duration_ms</th>\n",
       "      <th>song_duration_ms_mean_imp</th>\n",
       "    </tr>\n",
       "  </thead>\n",
       "  <tbody>\n",
       "    <tr>\n",
       "      <th>1</th>\n",
       "      <td>NaN</td>\n",
       "      <td>193150.809021</td>\n",
       "    </tr>\n",
       "    <tr>\n",
       "      <th>13</th>\n",
       "      <td>NaN</td>\n",
       "      <td>193150.809021</td>\n",
       "    </tr>\n",
       "    <tr>\n",
       "      <th>14</th>\n",
       "      <td>NaN</td>\n",
       "      <td>193150.809021</td>\n",
       "    </tr>\n",
       "    <tr>\n",
       "      <th>15</th>\n",
       "      <td>NaN</td>\n",
       "      <td>193150.809021</td>\n",
       "    </tr>\n",
       "    <tr>\n",
       "      <th>28</th>\n",
       "      <td>NaN</td>\n",
       "      <td>193150.809021</td>\n",
       "    </tr>\n",
       "  </tbody>\n",
       "</table>\n",
       "</div>"
      ],
      "text/plain": [
       "    song_duration_ms  song_duration_ms_mean_imp\n",
       "1                NaN              193150.809021\n",
       "13               NaN              193150.809021\n",
       "14               NaN              193150.809021\n",
       "15               NaN              193150.809021\n",
       "28               NaN              193150.809021"
      ]
     },
     "execution_count": 21,
     "metadata": {},
     "output_type": "execute_result"
    }
   ],
   "source": [
    "# Impute with mean\n",
    "tt[\"song_duration_ms_mean_imp\"] = tt[\"song_duration_ms\"].fillna(\n",
    "    tt[\"song_duration_ms\"].mean()\n",
    ")\n",
    "\n",
    "tt.loc[tt['song_duration_ms'].isna()] \\\n",
    "    [[\"song_duration_ms\", \"song_duration_ms_mean_imp\"]] \\\n",
    "    .head(5)"
   ]
  },
  {
   "cell_type": "code",
   "execution_count": 22,
   "id": "babadb50",
   "metadata": {
    "execution": {
     "iopub.execute_input": "2022-01-24T17:44:28.105120Z",
     "iopub.status.busy": "2022-01-24T17:44:28.104407Z",
     "iopub.status.idle": "2022-01-24T17:44:28.119536Z",
     "shell.execute_reply": "2022-01-24T17:44:28.118958Z",
     "shell.execute_reply.started": "2022-01-24T16:28:52.669414Z"
    },
    "papermill": {
     "duration": 0.060442,
     "end_time": "2022-01-24T17:44:28.119676",
     "exception": false,
     "start_time": "2022-01-24T17:44:28.059234",
     "status": "completed"
    },
    "tags": []
   },
   "outputs": [
    {
     "data": {
      "text/html": [
       "<div>\n",
       "<style scoped>\n",
       "    .dataframe tbody tr th:only-of-type {\n",
       "        vertical-align: middle;\n",
       "    }\n",
       "\n",
       "    .dataframe tbody tr th {\n",
       "        vertical-align: top;\n",
       "    }\n",
       "\n",
       "    .dataframe thead th {\n",
       "        text-align: right;\n",
       "    }\n",
       "</style>\n",
       "<table border=\"1\" class=\"dataframe\">\n",
       "  <thead>\n",
       "    <tr style=\"text-align: right;\">\n",
       "      <th></th>\n",
       "      <th>song_duration_ms</th>\n",
       "      <th>song_duration_ms_mean_imp</th>\n",
       "      <th>song_duration_ms_median_imp</th>\n",
       "    </tr>\n",
       "  </thead>\n",
       "  <tbody>\n",
       "    <tr>\n",
       "      <th>1</th>\n",
       "      <td>NaN</td>\n",
       "      <td>193150.809021</td>\n",
       "      <td>186552.5</td>\n",
       "    </tr>\n",
       "    <tr>\n",
       "      <th>13</th>\n",
       "      <td>NaN</td>\n",
       "      <td>193150.809021</td>\n",
       "      <td>186552.5</td>\n",
       "    </tr>\n",
       "    <tr>\n",
       "      <th>14</th>\n",
       "      <td>NaN</td>\n",
       "      <td>193150.809021</td>\n",
       "      <td>186552.5</td>\n",
       "    </tr>\n",
       "    <tr>\n",
       "      <th>15</th>\n",
       "      <td>NaN</td>\n",
       "      <td>193150.809021</td>\n",
       "      <td>186552.5</td>\n",
       "    </tr>\n",
       "    <tr>\n",
       "      <th>28</th>\n",
       "      <td>NaN</td>\n",
       "      <td>193150.809021</td>\n",
       "      <td>186552.5</td>\n",
       "    </tr>\n",
       "  </tbody>\n",
       "</table>\n",
       "</div>"
      ],
      "text/plain": [
       "    song_duration_ms  song_duration_ms_mean_imp  song_duration_ms_median_imp\n",
       "1                NaN              193150.809021                     186552.5\n",
       "13               NaN              193150.809021                     186552.5\n",
       "14               NaN              193150.809021                     186552.5\n",
       "15               NaN              193150.809021                     186552.5\n",
       "28               NaN              193150.809021                     186552.5"
      ]
     },
     "execution_count": 22,
     "metadata": {},
     "output_type": "execute_result"
    }
   ],
   "source": [
    "# Impute with median\n",
    "\n",
    "tt[\"song_duration_ms_median_imp\"] = tt[\"song_duration_ms\"].fillna(\n",
    "    tt[\"song_duration_ms\"].median()\n",
    ")\n",
    "\n",
    "tt.loc[tt['song_duration_ms'].isna()] \\\n",
    "    [[\"song_duration_ms\",\n",
    "      \"song_duration_ms_mean_imp\",\n",
    "     \"song_duration_ms_median_imp\"]] \\\n",
    "    .head(5)"
   ]
  },
  {
   "cell_type": "markdown",
   "id": "a4d9d103",
   "metadata": {
    "papermill": {
     "duration": 0.062592,
     "end_time": "2022-01-24T17:44:28.245015",
     "exception": false,
     "start_time": "2022-01-24T17:44:28.182423",
     "status": "completed"
    },
    "tags": []
   },
   "source": [
    "## Protip: filling for time series data.\n",
    "- `ffill()` and `bfill()`"
   ]
  },
  {
   "cell_type": "code",
   "execution_count": 23,
   "id": "34338a40",
   "metadata": {
    "execution": {
     "iopub.execute_input": "2022-01-24T17:44:28.374442Z",
     "iopub.status.busy": "2022-01-24T17:44:28.373756Z",
     "iopub.status.idle": "2022-01-24T17:44:28.388562Z",
     "shell.execute_reply": "2022-01-24T17:44:28.389103Z",
     "shell.execute_reply.started": "2022-01-24T16:31:19.8361Z"
    },
    "papermill": {
     "duration": 0.081775,
     "end_time": "2022-01-24T17:44:28.389269",
     "exception": false,
     "start_time": "2022-01-24T17:44:28.307494",
     "status": "completed"
    },
    "tags": []
   },
   "outputs": [],
   "source": [
    "ts_data = pd.DataFrame(index=[x / 5 for x in range(100)])\n",
    "ts_data[\"data\"] = np.sin(ts_data.index)\n",
    "ts_data[\"data_missing\"] = ts_data[\"data\"] \\\n",
    "    .sample(frac=0.9, random_state=529)\n",
    "ts_data[\"data_ffill\"] = ts_data[\"data_missing\"].ffill()\n",
    "ts_data[\"data_mean_fill\"] = ts_data[\"data_missing\"].fillna(\n",
    "    ts_data[\"data_missing\"].mean()\n",
    ")"
   ]
  },
  {
   "cell_type": "code",
   "execution_count": 24,
   "id": "db2387aa",
   "metadata": {
    "execution": {
     "iopub.execute_input": "2022-01-24T17:44:28.522594Z",
     "iopub.status.busy": "2022-01-24T17:44:28.517830Z",
     "iopub.status.idle": "2022-01-24T17:44:28.782166Z",
     "shell.execute_reply": "2022-01-24T17:44:28.781553Z",
     "shell.execute_reply.started": "2022-01-24T16:31:23.182636Z"
    },
    "papermill": {
     "duration": 0.329767,
     "end_time": "2022-01-24T17:44:28.782279",
     "exception": false,
     "start_time": "2022-01-24T17:44:28.452512",
     "status": "completed"
    },
    "tags": []
   },
   "outputs": [
    {
     "data": {
      "image/png": "[encoded data removed]",
      "text/plain": [
       "<Figure size 1080x360 with 1 Axes>"
      ]
     },
     "metadata": {},
     "output_type": "display_data"
    }
   ],
   "source": [
    "ts_data.plot(style=\".-\",\n",
    "             figsize=(15, 5),\n",
    "             title='Time Series Imputation')\n",
    "plt.show()"
   ]
  },
  {
   "cell_type": "markdown",
   "id": "f3b6dedd",
   "metadata": {
    "papermill": {
     "duration": 0.044361,
     "end_time": "2022-01-24T17:44:28.871035",
     "exception": false,
     "start_time": "2022-01-24T17:44:28.826674",
     "status": "completed"
    },
    "tags": []
   },
   "source": [
    "## GroupBy Fill\n",
    "- Use the average value grouped by a different feature\n",
    "- As an example we will use the `audio_mode` feature"
   ]
  },
  {
   "cell_type": "code",
   "execution_count": 25,
   "id": "ee6e29ce",
   "metadata": {
    "execution": {
     "iopub.execute_input": "2022-01-24T17:44:28.963760Z",
     "iopub.status.busy": "2022-01-24T17:44:28.961255Z",
     "iopub.status.idle": "2022-01-24T17:44:28.973354Z",
     "shell.execute_reply": "2022-01-24T17:44:28.972895Z",
     "shell.execute_reply.started": "2022-01-24T16:38:01.408266Z"
    },
    "papermill": {
     "duration": 0.058538,
     "end_time": "2022-01-24T17:44:28.973467",
     "exception": false,
     "start_time": "2022-01-24T17:44:28.914929",
     "status": "completed"
    },
    "tags": []
   },
   "outputs": [
    {
     "data": {
      "text/plain": [
       "{0: 193860.63699819762, 1: 191649.42961114578}"
      ]
     },
     "execution_count": 25,
     "metadata": {},
     "output_type": "execute_result"
    }
   ],
   "source": [
    "sd_mean_map = tt.groupby(\"audio_mode\")[\"song_duration_ms\"] \\\n",
    "    .mean().to_dict()\n",
    "sd_mean_map"
   ]
  },
  {
   "cell_type": "code",
   "execution_count": 26,
   "id": "f925cc80",
   "metadata": {
    "execution": {
     "iopub.execute_input": "2022-01-24T17:44:29.062362Z",
     "iopub.status.busy": "2022-01-24T17:44:29.061932Z",
     "iopub.status.idle": "2022-01-24T17:44:29.067906Z",
     "shell.execute_reply": "2022-01-24T17:44:29.067475Z",
     "shell.execute_reply.started": "2022-01-24T16:38:26.33655Z"
    },
    "papermill": {
     "duration": 0.051044,
     "end_time": "2022-01-24T17:44:29.068006",
     "exception": false,
     "start_time": "2022-01-24T17:44:29.016962",
     "status": "completed"
    },
    "tags": []
   },
   "outputs": [],
   "source": [
    "sd_mean_series = tt['audio_mode'].map(sd_mean_map)"
   ]
  },
  {
   "cell_type": "code",
   "execution_count": 27,
   "id": "139bff5f",
   "metadata": {
    "execution": {
     "iopub.execute_input": "2022-01-24T17:44:29.159464Z",
     "iopub.status.busy": "2022-01-24T17:44:29.158638Z",
     "iopub.status.idle": "2022-01-24T17:44:29.163584Z",
     "shell.execute_reply": "2022-01-24T17:44:29.163073Z",
     "shell.execute_reply.started": "2022-01-24T16:38:26.520219Z"
    },
    "papermill": {
     "duration": 0.052877,
     "end_time": "2022-01-24T17:44:29.163731",
     "exception": false,
     "start_time": "2022-01-24T17:44:29.110854",
     "status": "completed"
    },
    "tags": []
   },
   "outputs": [],
   "source": [
    "tt[\"song_duration_ms_mean_audio_mode\"] = \\\n",
    "    tt[\"song_duration_ms\"].fillna(sd_mean_series)"
   ]
  },
  {
   "cell_type": "code",
   "execution_count": 28,
   "id": "6ea83b28",
   "metadata": {
    "execution": {
     "iopub.execute_input": "2022-01-24T17:44:29.438836Z",
     "iopub.status.busy": "2022-01-24T17:44:29.438178Z",
     "iopub.status.idle": "2022-01-24T17:44:29.453052Z",
     "shell.execute_reply": "2022-01-24T17:44:29.452543Z",
     "shell.execute_reply.started": "2022-01-24T16:41:03.133553Z"
    },
    "papermill": {
     "duration": 0.247059,
     "end_time": "2022-01-24T17:44:29.453162",
     "exception": false,
     "start_time": "2022-01-24T17:44:29.206103",
     "status": "completed"
    },
    "tags": []
   },
   "outputs": [
    {
     "data": {
      "text/html": [
       "<div>\n",
       "<style scoped>\n",
       "    .dataframe tbody tr th:only-of-type {\n",
       "        vertical-align: middle;\n",
       "    }\n",
       "\n",
       "    .dataframe tbody tr th {\n",
       "        vertical-align: top;\n",
       "    }\n",
       "\n",
       "    .dataframe thead th {\n",
       "        text-align: right;\n",
       "    }\n",
       "</style>\n",
       "<table border=\"1\" class=\"dataframe\">\n",
       "  <thead>\n",
       "    <tr style=\"text-align: right;\">\n",
       "      <th></th>\n",
       "      <th>id</th>\n",
       "      <th>audio_mode</th>\n",
       "      <th>song_duration_ms_mean_audio_mode</th>\n",
       "    </tr>\n",
       "  </thead>\n",
       "  <tbody>\n",
       "    <tr>\n",
       "      <th>1</th>\n",
       "      <td>1</td>\n",
       "      <td>1</td>\n",
       "      <td>191649.429611</td>\n",
       "    </tr>\n",
       "    <tr>\n",
       "      <th>13</th>\n",
       "      <td>13</td>\n",
       "      <td>0</td>\n",
       "      <td>193860.636998</td>\n",
       "    </tr>\n",
       "    <tr>\n",
       "      <th>14</th>\n",
       "      <td>14</td>\n",
       "      <td>0</td>\n",
       "      <td>193860.636998</td>\n",
       "    </tr>\n",
       "    <tr>\n",
       "      <th>15</th>\n",
       "      <td>15</td>\n",
       "      <td>0</td>\n",
       "      <td>193860.636998</td>\n",
       "    </tr>\n",
       "    <tr>\n",
       "      <th>28</th>\n",
       "      <td>28</td>\n",
       "      <td>0</td>\n",
       "      <td>193860.636998</td>\n",
       "    </tr>\n",
       "  </tbody>\n",
       "</table>\n",
       "</div>"
      ],
      "text/plain": [
       "    id  audio_mode  song_duration_ms_mean_audio_mode\n",
       "1    1           1                     191649.429611\n",
       "13  13           0                     193860.636998\n",
       "14  14           0                     193860.636998\n",
       "15  15           0                     193860.636998\n",
       "28  28           0                     193860.636998"
      ]
     },
     "execution_count": 28,
     "metadata": {},
     "output_type": "execute_result"
    }
   ],
   "source": [
    "tt.query('song_duration_ms_missing == True') \\\n",
    "    [['id','audio_mode','song_duration_ms_mean_audio_mode']].head(5)"
   ]
  },
  {
   "cell_type": "markdown",
   "id": "386358f1",
   "metadata": {
    "papermill": {
     "duration": 0.0432,
     "end_time": "2022-01-24T17:44:29.541729",
     "exception": false,
     "start_time": "2022-01-24T17:44:29.498529",
     "status": "completed"
    },
    "tags": []
   },
   "source": [
    "# Level 3: Sklearn Imputation\n",
    "![img](https://i.imgur.com/eVKTU5p.jpg)\n",
    "\n",
    "- `SimpleImputer` Similar to pandas `fillna`\n",
    "- `IterativeImputer`\n",
    "- `KNNImputer`\n",
    "\n",
    "Using SKlearn is good because it provides a `fit` and `transform` method. This allows us to fit on the training and transform on both the train validation.\n",
    "\n",
    "In real world situations you will want to `fit` and `transform` *within* your cross validation loop to ensure no leakage.\n",
    "\n",
    "**Protip: in kaggle competitions we sometimes know all of the features for the test set. So it may be advantageous to fit on all the data.** This doesn't work for \"code\" competitions because we can't see the test data before out model predicts."
   ]
  },
  {
   "cell_type": "markdown",
   "id": "fae7a83e",
   "metadata": {
    "papermill": {
     "duration": 0.044722,
     "end_time": "2022-01-24T17:44:29.629786",
     "exception": false,
     "start_time": "2022-01-24T17:44:29.585064",
     "status": "completed"
    },
    "tags": []
   },
   "source": [
    "## SimpleImputer\n",
    "- Impute with the mean value, median, and just a single value\n",
    "- `add_indicator` will add the indicator column"
   ]
  },
  {
   "cell_type": "code",
   "execution_count": 29,
   "id": "ee89fffb",
   "metadata": {
    "execution": {
     "iopub.execute_input": "2022-01-24T17:44:29.722693Z",
     "iopub.status.busy": "2022-01-24T17:44:29.720791Z",
     "iopub.status.idle": "2022-01-24T17:44:29.806958Z",
     "shell.execute_reply": "2022-01-24T17:44:29.807313Z",
     "shell.execute_reply.started": "2022-01-24T16:44:37.931707Z"
    },
    "papermill": {
     "duration": 0.132784,
     "end_time": "2022-01-24T17:44:29.807463",
     "exception": false,
     "start_time": "2022-01-24T17:44:29.674679",
     "status": "completed"
    },
    "tags": []
   },
   "outputs": [],
   "source": [
    "from sklearn.impute import SimpleImputer\n",
    "imptr = SimpleImputer(strategy=\"mean\", add_indicator=False)"
   ]
  },
  {
   "cell_type": "code",
   "execution_count": 30,
   "id": "25869486",
   "metadata": {
    "execution": {
     "iopub.execute_input": "2022-01-24T17:44:29.897553Z",
     "iopub.status.busy": "2022-01-24T17:44:29.897108Z",
     "iopub.status.idle": "2022-01-24T17:44:29.904495Z",
     "shell.execute_reply": "2022-01-24T17:44:29.904959Z",
     "shell.execute_reply.started": "2022-01-24T16:47:56.168353Z"
    },
    "papermill": {
     "duration": 0.054351,
     "end_time": "2022-01-24T17:44:29.905105",
     "exception": false,
     "start_time": "2022-01-24T17:44:29.850754",
     "status": "completed"
    },
    "tags": []
   },
   "outputs": [
    {
     "data": {
      "text/plain": [
       "193165.84757235576"
      ]
     },
     "execution_count": 30,
     "metadata": {},
     "output_type": "execute_result"
    }
   ],
   "source": [
    "train['song_duration_ms'].mean()"
   ]
  },
  {
   "cell_type": "code",
   "execution_count": 31,
   "id": "abe2d1b3",
   "metadata": {
    "execution": {
     "iopub.execute_input": "2022-01-24T17:44:30.000908Z",
     "iopub.status.busy": "2022-01-24T17:44:30.000358Z",
     "iopub.status.idle": "2022-01-24T17:44:30.320723Z",
     "shell.execute_reply": "2022-01-24T17:44:30.321222Z",
     "shell.execute_reply.started": "2022-01-24T16:49:19.289101Z"
    },
    "papermill": {
     "duration": 0.372066,
     "end_time": "2022-01-24T17:44:30.321362",
     "exception": false,
     "start_time": "2022-01-24T17:44:29.949296",
     "status": "completed"
    },
    "tags": []
   },
   "outputs": [
    {
     "data": {
      "text/plain": [
       "<matplotlib.lines.Line2D at 0x7fd5b24aa4d0>"
      ]
     },
     "execution_count": 31,
     "metadata": {},
     "output_type": "execute_result"
    },
    {
     "data": {
      "image/png": "[encoded data removed]",
      "text/plain": [
       "<Figure size 432x288 with 1 Axes>"
      ]
     },
     "metadata": {},
     "output_type": "display_data"
    }
   ],
   "source": [
    "ax = train['danceability'] \\\n",
    "    .plot(kind='hist', bins=50,\n",
    "          title='distribution of song_duration')\n",
    "ax.axvline(train['danceability'].mean(),\n",
    "           color='black')\n",
    "ax.axvline(train['danceability'].median(),\n",
    "           color='orange')"
   ]
  },
  {
   "cell_type": "code",
   "execution_count": 32,
   "id": "814742a9",
   "metadata": {
    "execution": {
     "iopub.execute_input": "2022-01-24T17:44:30.415352Z",
     "iopub.status.busy": "2022-01-24T17:44:30.414861Z",
     "iopub.status.idle": "2022-01-24T17:44:30.444288Z",
     "shell.execute_reply": "2022-01-24T17:44:30.444726Z",
     "shell.execute_reply.started": "2022-01-24T16:44:47.537672Z"
    },
    "papermill": {
     "duration": 0.077941,
     "end_time": "2022-01-24T17:44:30.444867",
     "exception": false,
     "start_time": "2022-01-24T17:44:30.366926",
     "status": "completed"
    },
    "tags": []
   },
   "outputs": [],
   "source": [
    "# Fit / Transform on train, transform only on val/test\n",
    "tr_imp = imptr.fit_transform(train[FEATURES])\n",
    "test_imp = imptr.transform(test[FEATURES])"
   ]
  },
  {
   "cell_type": "code",
   "execution_count": 33,
   "id": "731266df",
   "metadata": {
    "execution": {
     "iopub.execute_input": "2022-01-24T17:44:30.542605Z",
     "iopub.status.busy": "2022-01-24T17:44:30.542020Z",
     "iopub.status.idle": "2022-01-24T17:44:30.588001Z",
     "shell.execute_reply": "2022-01-24T17:44:30.587612Z",
     "shell.execute_reply.started": "2022-01-24T16:45:57.646663Z"
    },
    "papermill": {
     "duration": 0.096514,
     "end_time": "2022-01-24T17:44:30.588104",
     "exception": false,
     "start_time": "2022-01-24T17:44:30.491590",
     "status": "completed"
    },
    "tags": []
   },
   "outputs": [
    {
     "data": {
      "text/html": [
       "<div>\n",
       "<style scoped>\n",
       "    .dataframe tbody tr th:only-of-type {\n",
       "        vertical-align: middle;\n",
       "    }\n",
       "\n",
       "    .dataframe tbody tr th {\n",
       "        vertical-align: top;\n",
       "    }\n",
       "\n",
       "    .dataframe thead th {\n",
       "        text-align: right;\n",
       "    }\n",
       "</style>\n",
       "<table border=\"1\" class=\"dataframe\">\n",
       "  <thead>\n",
       "    <tr style=\"text-align: right;\">\n",
       "      <th></th>\n",
       "      <th>song_duration_ms</th>\n",
       "      <th>acousticness</th>\n",
       "      <th>danceability</th>\n",
       "      <th>energy</th>\n",
       "      <th>instrumentalness</th>\n",
       "      <th>key</th>\n",
       "      <th>liveness</th>\n",
       "      <th>loudness</th>\n",
       "      <th>audio_mode</th>\n",
       "      <th>speechiness</th>\n",
       "      <th>tempo</th>\n",
       "      <th>time_signature</th>\n",
       "      <th>audio_valence</th>\n",
       "    </tr>\n",
       "  </thead>\n",
       "  <tbody>\n",
       "    <tr>\n",
       "      <th>0</th>\n",
       "      <td>212990.000000</td>\n",
       "      <td>0.642286</td>\n",
       "      <td>0.856520</td>\n",
       "      <td>0.707073</td>\n",
       "      <td>0.002001</td>\n",
       "      <td>10.0</td>\n",
       "      <td>0.198086</td>\n",
       "      <td>-5.619088</td>\n",
       "      <td>0.0</td>\n",
       "      <td>0.082570</td>\n",
       "      <td>158.386236</td>\n",
       "      <td>4.0</td>\n",
       "      <td>0.734642</td>\n",
       "    </tr>\n",
       "    <tr>\n",
       "      <th>1</th>\n",
       "      <td>193150.809021</td>\n",
       "      <td>0.054866</td>\n",
       "      <td>0.733289</td>\n",
       "      <td>0.835545</td>\n",
       "      <td>0.000996</td>\n",
       "      <td>8.0</td>\n",
       "      <td>0.436428</td>\n",
       "      <td>-5.236965</td>\n",
       "      <td>1.0</td>\n",
       "      <td>0.127358</td>\n",
       "      <td>102.752988</td>\n",
       "      <td>3.0</td>\n",
       "      <td>0.711531</td>\n",
       "    </tr>\n",
       "    <tr>\n",
       "      <th>2</th>\n",
       "      <td>193213.000000</td>\n",
       "      <td>0.277183</td>\n",
       "      <td>0.188387</td>\n",
       "      <td>0.783524</td>\n",
       "      <td>-0.002694</td>\n",
       "      <td>5.0</td>\n",
       "      <td>0.170499</td>\n",
       "      <td>-4.951759</td>\n",
       "      <td>0.0</td>\n",
       "      <td>0.052282</td>\n",
       "      <td>178.685791</td>\n",
       "      <td>3.0</td>\n",
       "      <td>0.425536</td>\n",
       "    </tr>\n",
       "    <tr>\n",
       "      <th>3</th>\n",
       "      <td>249893.000000</td>\n",
       "      <td>0.488660</td>\n",
       "      <td>0.585234</td>\n",
       "      <td>0.552685</td>\n",
       "      <td>0.000608</td>\n",
       "      <td>0.0</td>\n",
       "      <td>0.094805</td>\n",
       "      <td>-7.893694</td>\n",
       "      <td>0.0</td>\n",
       "      <td>0.035618</td>\n",
       "      <td>128.715630</td>\n",
       "      <td>3.0</td>\n",
       "      <td>0.453597</td>\n",
       "    </tr>\n",
       "    <tr>\n",
       "      <th>4</th>\n",
       "      <td>165969.000000</td>\n",
       "      <td>0.493017</td>\n",
       "      <td>0.570724</td>\n",
       "      <td>0.740982</td>\n",
       "      <td>0.002033</td>\n",
       "      <td>10.0</td>\n",
       "      <td>0.094891</td>\n",
       "      <td>-2.684095</td>\n",
       "      <td>0.0</td>\n",
       "      <td>0.050746</td>\n",
       "      <td>121.928157</td>\n",
       "      <td>4.0</td>\n",
       "      <td>0.741311</td>\n",
       "    </tr>\n",
       "  </tbody>\n",
       "</table>\n",
       "</div>"
      ],
      "text/plain": [
       "   song_duration_ms  acousticness  danceability    energy  instrumentalness  \\\n",
       "0     212990.000000      0.642286      0.856520  0.707073          0.002001   \n",
       "1     193150.809021      0.054866      0.733289  0.835545          0.000996   \n",
       "2     193213.000000      0.277183      0.188387  0.783524         -0.002694   \n",
       "3     249893.000000      0.488660      0.585234  0.552685          0.000608   \n",
       "4     165969.000000      0.493017      0.570724  0.740982          0.002033   \n",
       "\n",
       "    key  liveness  loudness  audio_mode  speechiness       tempo  \\\n",
       "0  10.0  0.198086 -5.619088         0.0     0.082570  158.386236   \n",
       "1   8.0  0.436428 -5.236965         1.0     0.127358  102.752988   \n",
       "2   5.0  0.170499 -4.951759         0.0     0.052282  178.685791   \n",
       "3   0.0  0.094805 -7.893694         0.0     0.035618  128.715630   \n",
       "4  10.0  0.094891 -2.684095         0.0     0.050746  121.928157   \n",
       "\n",
       "   time_signature  audio_valence  \n",
       "0             4.0       0.734642  \n",
       "1             3.0       0.711531  \n",
       "2             3.0       0.425536  \n",
       "3             3.0       0.453597  \n",
       "4             4.0       0.741311  "
      ]
     },
     "execution_count": 33,
     "metadata": {},
     "output_type": "execute_result"
    }
   ],
   "source": [
    "# For kaggle competition you can kind of cheat by fitting on all data\n",
    "tt_impute = imptr.fit_transform(tt[FEATURES])\n",
    "tt_simple_impute = pd.DataFrame(tt_impute, columns=FEATURES)\n",
    "tt_simple_impute.head()"
   ]
  },
  {
   "cell_type": "markdown",
   "id": "0ca9581f",
   "metadata": {
    "papermill": {
     "duration": 0.045858,
     "end_time": "2022-01-24T17:44:30.679508",
     "exception": false,
     "start_time": "2022-01-24T17:44:30.633650",
     "status": "completed"
    },
    "tags": []
   },
   "source": [
    "# Iterative Imputer!\n",
    "\n",
    "https://scikit-learn.org/stable/modules/generated/sklearn.impute.IterativeImputer.html\n",
    "\n",
    "Multivariate imputer that estimates each feature from all the others.\n",
    "\n",
    "A strategy for imputing missing values by modeling each feature with missing values as a function of other features in a round-robin fashion.\n",
    "\n",
    "Uses by default the `BayesianRidge` model to impute\n",
    "\n",
    "- *Protip* : We want to `fit` and `predict` on all columns! This is because the model is using all features to help fill the missing values."
   ]
  },
  {
   "cell_type": "code",
   "execution_count": 34,
   "id": "6c744f20",
   "metadata": {
    "execution": {
     "iopub.execute_input": "2022-01-24T17:44:30.774702Z",
     "iopub.status.busy": "2022-01-24T17:44:30.774160Z",
     "iopub.status.idle": "2022-01-24T17:44:30.784568Z",
     "shell.execute_reply": "2022-01-24T17:44:30.784097Z",
     "shell.execute_reply.started": "2022-01-24T16:50:54.501305Z"
    },
    "papermill": {
     "duration": 0.059224,
     "end_time": "2022-01-24T17:44:30.784681",
     "exception": false,
     "start_time": "2022-01-24T17:44:30.725457",
     "status": "completed"
    },
    "tags": []
   },
   "outputs": [],
   "source": [
    "from sklearn.experimental import enable_iterative_imputer  # noqa\n",
    "from sklearn.impute import IterativeImputer"
   ]
  },
  {
   "cell_type": "code",
   "execution_count": 35,
   "id": "b07e3394",
   "metadata": {
    "execution": {
     "iopub.execute_input": "2022-01-24T17:44:30.885745Z",
     "iopub.status.busy": "2022-01-24T17:44:30.885225Z",
     "iopub.status.idle": "2022-01-24T17:44:34.687419Z",
     "shell.execute_reply": "2022-01-24T17:44:34.688021Z",
     "shell.execute_reply.started": "2022-01-24T16:51:12.273619Z"
    },
    "papermill": {
     "duration": 3.857941,
     "end_time": "2022-01-24T17:44:34.688218",
     "exception": false,
     "start_time": "2022-01-24T17:44:30.830277",
     "status": "completed"
    },
    "tags": []
   },
   "outputs": [
    {
     "name": "stdout",
     "output_type": "stream",
     "text": [
      "CPU times: user 5.04 s, sys: 10 s, total: 15.1 s\n",
      "Wall time: 3.8 s\n"
     ]
    }
   ],
   "source": [
    "%%time\n",
    "it_imputer = IterativeImputer(max_iter=10)\n",
    "train_iterimp = it_imputer.fit_transform(train[FEATURES])\n",
    "test_iterimp = it_imputer.transform(test[FEATURES])\n",
    "tt_iterimp = it_imputer.fit_transform(tt[FEATURES])\n",
    "\n",
    "# Create train test imputed dataframe\n",
    "tt_iter_imp_df = pd.DataFrame(tt_iterimp, columns=FEATURES)"
   ]
  },
  {
   "cell_type": "code",
   "execution_count": 36,
   "id": "04d5bddb",
   "metadata": {
    "execution": {
     "iopub.execute_input": "2022-01-24T17:44:34.810239Z",
     "iopub.status.busy": "2022-01-24T17:44:34.809432Z",
     "iopub.status.idle": "2022-01-24T17:44:34.924476Z",
     "shell.execute_reply": "2022-01-24T17:44:34.923477Z",
     "shell.execute_reply.started": "2022-01-24T16:52:01.239903Z"
    },
    "papermill": {
     "duration": 0.174742,
     "end_time": "2022-01-24T17:44:34.924620",
     "exception": false,
     "start_time": "2022-01-24T17:44:34.749878",
     "status": "completed"
    },
    "tags": []
   },
   "outputs": [],
   "source": [
    "# Save this off to use later\n",
    "tt_iter_imp_df.to_parquet(\"tt_iterative_imp.parquet\")"
   ]
  },
  {
   "cell_type": "markdown",
   "id": "fbe38c0a",
   "metadata": {
    "papermill": {
     "duration": 0.068249,
     "end_time": "2022-01-24T17:44:35.062095",
     "exception": false,
     "start_time": "2022-01-24T17:44:34.993846",
     "status": "completed"
    },
    "tags": []
   },
   "source": [
    "## KNN Imputer\n",
    "https://scikit-learn.org/stable/modules/generated/sklearn.impute.KNNImputer.html\n",
    "\n",
    "Imputation for completing missing values using k-Nearest Neighbors."
   ]
  },
  {
   "cell_type": "code",
   "execution_count": 37,
   "id": "c59a37df",
   "metadata": {
    "execution": {
     "iopub.execute_input": "2022-01-24T17:44:35.202286Z",
     "iopub.status.busy": "2022-01-24T17:44:35.201652Z",
     "iopub.status.idle": "2022-01-24T17:46:35.769307Z",
     "shell.execute_reply": "2022-01-24T17:46:35.769820Z",
     "shell.execute_reply.started": "2022-01-24T16:57:28.152468Z"
    },
    "papermill": {
     "duration": 120.639343,
     "end_time": "2022-01-24T17:46:35.769983",
     "exception": false,
     "start_time": "2022-01-24T17:44:35.130640",
     "status": "completed"
    },
    "tags": []
   },
   "outputs": [
    {
     "name": "stdout",
     "output_type": "stream",
     "text": [
      "CPU times: user 2min 3s, sys: 39.6 s, total: 2min 42s\n",
      "Wall time: 2min\n"
     ]
    }
   ],
   "source": [
    "%%time\n",
    "from sklearn.impute import KNNImputer\n",
    "\n",
    "knn_imptr = KNNImputer(n_neighbors=1)\n",
    "train_knnimp = knn_imptr.fit_transform(train[FEATURES])\n",
    "test_knnimp = knn_imptr.transform(test[FEATURES])\n",
    "tt_knnimp = knn_imptr.fit_transform(tt[FEATURES])\n",
    "tt_imp = pd.DataFrame(tt_knnimp, columns=FEATURES)\n",
    "\n",
    "# Create KNN Train/Test imputed dataframe\n",
    "knn_imp_df = pd.DataFrame(tt_imp, columns=FEATURES)"
   ]
  },
  {
   "cell_type": "code",
   "execution_count": 38,
   "id": "a392ed6f",
   "metadata": {
    "execution": {
     "iopub.execute_input": "2022-01-24T17:46:35.913331Z",
     "iopub.status.busy": "2022-01-24T17:46:35.912679Z",
     "iopub.status.idle": "2022-01-24T17:46:35.967166Z",
     "shell.execute_reply": "2022-01-24T17:46:35.967524Z"
    },
    "papermill": {
     "duration": 0.128831,
     "end_time": "2022-01-24T17:46:35.967693",
     "exception": false,
     "start_time": "2022-01-24T17:46:35.838862",
     "status": "completed"
    },
    "tags": []
   },
   "outputs": [],
   "source": [
    "# Save this off to use later\n",
    "knn_imp_df.to_parquet(\"tt_knn_imp.parquet\")"
   ]
  },
  {
   "cell_type": "markdown",
   "id": "52480335",
   "metadata": {
    "papermill": {
     "duration": 0.046551,
     "end_time": "2022-01-24T17:46:36.060806",
     "exception": false,
     "start_time": "2022-01-24T17:46:36.014255",
     "status": "completed"
    },
    "tags": []
   },
   "source": [
    "# Level 4: LightGBM Imputer!!\n",
    "\n",
    "![img](https://i.imgur.com/i0vWAcc.jpg)\n",
    "\n",
    "<!-- ![img](https://avatars.githubusercontent.com/u/9374781?v=4) -->\n",
    "\n",
    "Shoutout to analokmaus:\n",
    "<div> <img src=\"https://avatars.githubusercontent.com/u/9374781?v=4\" alt=\"Drawing\" style=\"height: 100px;\"/></div>\n",
    "\n",
    "https://github.com/analokmaus/kuma_utils/blob/master/preprocessing/imputer.py"
   ]
  },
  {
   "cell_type": "code",
   "execution_count": 39,
   "id": "c45b88a8",
   "metadata": {
    "execution": {
     "iopub.execute_input": "2022-01-24T17:46:36.159936Z",
     "iopub.status.busy": "2022-01-24T17:46:36.156473Z",
     "iopub.status.idle": "2022-01-24T17:46:37.962825Z",
     "shell.execute_reply": "2022-01-24T17:46:37.962146Z",
     "shell.execute_reply.started": "2022-01-24T17:03:16.215974Z"
    },
    "papermill": {
     "duration": 1.855481,
     "end_time": "2022-01-24T17:46:37.962962",
     "exception": false,
     "start_time": "2022-01-24T17:46:36.107481",
     "status": "completed"
    },
    "tags": []
   },
   "outputs": [
    {
     "name": "stdout",
     "output_type": "stream",
     "text": [
      "Cloning into 'kuma_utils'...\r\n",
      "remote: Enumerating objects: 881, done.\u001b[K\r\n",
      "remote: Counting objects: 100% (597/597), done.\u001b[K\r\n",
      "remote: Compressing objects: 100% (421/421), done.\u001b[K\r\n",
      "remote: Total 881 (delta 371), reused 382 (delta 166), pack-reused 284\u001b[K\r\n",
      "Receiving objects: 100% (881/881), 692.46 KiB | 2.00 MiB/s, done.\r\n",
      "Resolving deltas: 100% (558/558), done.\r\n"
     ]
    }
   ],
   "source": [
    "# !rm -r kuma_utils\n",
    "!git clone https://github.com/analokmaus/kuma_utils.git"
   ]
  },
  {
   "cell_type": "code",
   "execution_count": 40,
   "id": "d3f7f303",
   "metadata": {
    "execution": {
     "iopub.execute_input": "2022-01-24T17:46:38.115904Z",
     "iopub.status.busy": "2022-01-24T17:46:38.115249Z",
     "iopub.status.idle": "2022-01-24T17:46:38.123105Z",
     "shell.execute_reply": "2022-01-24T17:46:38.122555Z",
     "shell.execute_reply.started": "2022-01-24T17:03:27.963235Z"
    },
    "papermill": {
     "duration": 0.086419,
     "end_time": "2022-01-24T17:46:38.123254",
     "exception": false,
     "start_time": "2022-01-24T17:46:38.036835",
     "status": "completed"
    },
    "tags": []
   },
   "outputs": [],
   "source": [
    "import sys\n",
    "sys.path.append(\"kuma_utils/\")\n",
    "from kuma_utils.preprocessing.imputer import LGBMImputer"
   ]
  },
  {
   "cell_type": "code",
   "execution_count": 41,
   "id": "b159b589",
   "metadata": {
    "execution": {
     "iopub.execute_input": "2022-01-24T17:46:38.277172Z",
     "iopub.status.busy": "2022-01-24T17:46:38.276508Z",
     "iopub.status.idle": "2022-01-24T17:46:43.593712Z",
     "shell.execute_reply": "2022-01-24T17:46:43.594574Z",
     "shell.execute_reply.started": "2022-01-24T17:03:53.883937Z"
    },
    "papermill": {
     "duration": 5.398793,
     "end_time": "2022-01-24T17:46:43.594746",
     "exception": false,
     "start_time": "2022-01-24T17:46:38.195953",
     "status": "completed"
    },
    "tags": []
   },
   "outputs": [
    {
     "name": "stdout",
     "output_type": "stream",
     "text": [
      "song_duration_ms:\tregression...iter100/100\n",
      "acousticness:\tregression...iter100/100\n",
      "danceability:\tregression...iter1/100\n",
      "energy:\tregression...iter100/100\n",
      "instrumentalness:\tregression...iter100/100\n",
      "key:\tregression...iter100/100\n",
      "liveness:\tregression...iter100/100\n",
      "loudness:\tregression...iter100/100\n",
      "song_duration_ms:\tregression...iter100/100\n",
      "acousticness:\tregression...iter100/100\n",
      "danceability:\tregression...iter1/100\n",
      "energy:\tregression...iter100/100\n",
      "instrumentalness:\tregression...iter100/100\n",
      "key:\tregression...iter100/100\n",
      "liveness:\tregression...iter100/100\n",
      "loudness:\tregression...iter100/100\n",
      "CPU times: user 20.6 s, sys: 21.3 ms, total: 20.6 s\n",
      "Wall time: 5.32 s\n"
     ]
    }
   ],
   "source": [
    "%%time\n",
    "lgbm_imtr = LGBMImputer(n_iter=100, verbose=True)\n",
    "\n",
    "train_lgbmimp = lgbm_imtr.fit_transform(train[FEATURES])\n",
    "test_lgbmimp = lgbm_imtr.transform(test[FEATURES])\n",
    "tt_lgbmimp = lgbm_imtr.fit_transform(tt[FEATURES])\n",
    "tt_imp = pd.DataFrame(tt_lgbmimp, columns=FEATURES)\n",
    "\n",
    "# Create LGBM Train/Test imputed dataframe\n",
    "lgbm_imp_df = pd.DataFrame(tt_imp, columns=FEATURES)"
   ]
  },
  {
   "cell_type": "code",
   "execution_count": 42,
   "id": "63dfef8a",
   "metadata": {
    "execution": {
     "iopub.execute_input": "2022-01-24T17:46:43.756084Z",
     "iopub.status.busy": "2022-01-24T17:46:43.755463Z",
     "iopub.status.idle": "2022-01-24T17:46:43.762931Z",
     "shell.execute_reply": "2022-01-24T17:46:43.763456Z",
     "shell.execute_reply.started": "2022-01-24T17:04:38.308262Z"
    },
    "papermill": {
     "duration": 0.089713,
     "end_time": "2022-01-24T17:46:43.763642",
     "exception": false,
     "start_time": "2022-01-24T17:46:43.673929",
     "status": "completed"
    },
    "tags": []
   },
   "outputs": [],
   "source": [
    "tt_lgbm_imp = pd.concat([tt[[\"id\", \"isTrain\",\n",
    "                             \"song_popularity\"]],\n",
    "                         tt_lgbmimp], axis=1)"
   ]
  },
  {
   "cell_type": "code",
   "execution_count": 43,
   "id": "81886060",
   "metadata": {
    "execution": {
     "iopub.execute_input": "2022-01-24T17:46:43.920975Z",
     "iopub.status.busy": "2022-01-24T17:46:43.920365Z",
     "iopub.status.idle": "2022-01-24T17:46:43.984868Z",
     "shell.execute_reply": "2022-01-24T17:46:43.984314Z",
     "shell.execute_reply.started": "2022-01-24T17:04:38.524242Z"
    },
    "papermill": {
     "duration": 0.143278,
     "end_time": "2022-01-24T17:46:43.985028",
     "exception": false,
     "start_time": "2022-01-24T17:46:43.841750",
     "status": "completed"
    },
    "tags": []
   },
   "outputs": [],
   "source": [
    "tt_lgbm_imp.to_parquet(\"tt_lgbm_imp.parquet\")"
   ]
  },
  {
   "cell_type": "markdown",
   "id": "a4bc89eb",
   "metadata": {
    "papermill": {
     "duration": 0.076925,
     "end_time": "2022-01-24T17:46:44.139206",
     "exception": false,
     "start_time": "2022-01-24T17:46:44.062281",
     "status": "completed"
    },
    "tags": []
   },
   "source": [
    "# Check The Imputation Distribution"
   ]
  },
  {
   "cell_type": "code",
   "execution_count": 44,
   "id": "1acb2dff",
   "metadata": {
    "execution": {
     "iopub.execute_input": "2022-01-24T17:46:44.308893Z",
     "iopub.status.busy": "2022-01-24T17:46:44.305589Z",
     "iopub.status.idle": "2022-01-24T17:46:45.001117Z",
     "shell.execute_reply": "2022-01-24T17:46:45.000335Z",
     "shell.execute_reply.started": "2022-01-24T17:05:31.729688Z"
    },
    "papermill": {
     "duration": 0.785316,
     "end_time": "2022-01-24T17:46:45.001239",
     "exception": false,
     "start_time": "2022-01-24T17:46:44.215923",
     "status": "completed"
    },
    "tags": []
   },
   "outputs": [
    {
     "data": {
      "image/png": "[encoded data removed]",
      "text/plain": [
       "<Figure size 576x576 with 4 Axes>"
      ]
     },
     "metadata": {},
     "output_type": "display_data"
    }
   ],
   "source": [
    "fig, axs = plt.subplots(2, 2, figsize=(8, 8))\n",
    "axs = axs.flatten()\n",
    "\n",
    "tt_simple_impute['song_duration_ms'] \\\n",
    "    .plot(kind='hist',\n",
    "          bins=50,\n",
    "          ax=axs[0],\n",
    "          title='Simple Impute',\n",
    "         color=color_pal[0])\n",
    "\n",
    "tt_iter_imp_df['song_duration_ms'] \\\n",
    "    .plot(kind='hist',\n",
    "          bins=50,\n",
    "          ax=axs[1],\n",
    "          title='Iterative Impute',\n",
    "         color=color_pal[1])\n",
    "\n",
    "knn_imp_df['song_duration_ms'] \\\n",
    "    .plot(kind='hist',\n",
    "          bins=50,\n",
    "          ax=axs[2],\n",
    "          title='KNN Impute',\n",
    "         color=color_pal[2])\n",
    "\n",
    "tt_lgbm_imp['song_duration_ms'] \\\n",
    "    .plot(kind='hist',\n",
    "          bins=50,\n",
    "          ax=axs[3],\n",
    "          title='LGBM Impute',\n",
    "         color=color_pal[3])\n",
    "plt.show()"
   ]
  },
  {
   "cell_type": "markdown",
   "id": "59477e2c",
   "metadata": {
    "papermill": {
     "duration": 0.05398,
     "end_time": "2022-01-24T17:46:45.110460",
     "exception": false,
     "start_time": "2022-01-24T17:46:45.056480",
     "status": "completed"
    },
    "tags": []
   },
   "source": [
    "# Which Method is Best?\n",
    "- Try and check on cross validation!"
   ]
  },
  {
   "cell_type": "markdown",
   "id": "c95d2df7",
   "metadata": {
    "papermill": {
     "duration": 0.054401,
     "end_time": "2022-01-24T17:46:45.220160",
     "exception": false,
     "start_time": "2022-01-24T17:46:45.165759",
     "status": "completed"
    },
    "tags": []
   },
   "source": [
    "# THE END!\n",
    "\n",
    "I hope you've learned something new about how to deal with missing values!"
   ]
  }
 ],
 "metadata": {
  "kernelspec": {
   "display_name": "Python 3",
   "language": "python",
   "name": "python3"
  },
  "language_info": {
   "codemirror_mode": {
    "name": "ipython",
    "version": 3
   },
   "file_extension": ".py",
   "mimetype": "text/x-python",
   "name": "python",
   "nbconvert_exporter": "python",
   "pygments_lexer": "ipython3",
   "version": "3.7.12"
  },
  "papermill": {
   "default_parameters": {},
   "duration": 157.723847,
   "end_time": "2022-01-24T17:46:46.294285",
   "environment_variables": {},
   "exception": null,
   "input_path": "__notebook__.ipynb",
   "output_path": "__notebook__.ipynb",
   "parameters": {},
   "start_time": "2022-01-24T17:44:08.570438",
   "version": "2.3.3"
  }
 },
 "nbformat": 4,
 "nbformat_minor": 5
}
